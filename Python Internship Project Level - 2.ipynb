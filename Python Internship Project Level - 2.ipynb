{
 "cells": [
  {
   "cell_type": "markdown",
   "id": "1ff6d94b",
   "metadata": {},
   "source": [
    "## Level 2\n",
    "\n",
    "### Internship Project\n",
    "\n",
    "#### Cognifyz Technologies"
   ]
  },
  {
   "cell_type": "code",
   "execution_count": 1,
   "id": "7d26e1b4",
   "metadata": {},
   "outputs": [],
   "source": [
    "import pandas as pd\n",
    "from collections import Counter\n",
    "import matplotlib.pyplot as plt\n",
    "import seaborn as sns"
   ]
  },
  {
   "cell_type": "code",
   "execution_count": 2,
   "id": "09e9346e",
   "metadata": {},
   "outputs": [
    {
     "data": {
      "text/html": [
       "<div>\n",
       "<style scoped>\n",
       "    .dataframe tbody tr th:only-of-type {\n",
       "        vertical-align: middle;\n",
       "    }\n",
       "\n",
       "    .dataframe tbody tr th {\n",
       "        vertical-align: top;\n",
       "    }\n",
       "\n",
       "    .dataframe thead th {\n",
       "        text-align: right;\n",
       "    }\n",
       "</style>\n",
       "<table border=\"1\" class=\"dataframe\">\n",
       "  <thead>\n",
       "    <tr style=\"text-align: right;\">\n",
       "      <th></th>\n",
       "      <th>Restaurant ID</th>\n",
       "      <th>Restaurant Name</th>\n",
       "      <th>Country Code</th>\n",
       "      <th>City</th>\n",
       "      <th>Address</th>\n",
       "      <th>Locality</th>\n",
       "      <th>Locality Verbose</th>\n",
       "      <th>Longitude</th>\n",
       "      <th>Latitude</th>\n",
       "      <th>Cuisines</th>\n",
       "      <th>...</th>\n",
       "      <th>Currency</th>\n",
       "      <th>Has Table booking</th>\n",
       "      <th>Has Online delivery</th>\n",
       "      <th>Is delivering now</th>\n",
       "      <th>Switch to order menu</th>\n",
       "      <th>Price range</th>\n",
       "      <th>Aggregate rating</th>\n",
       "      <th>Rating color</th>\n",
       "      <th>Rating text</th>\n",
       "      <th>Votes</th>\n",
       "    </tr>\n",
       "  </thead>\n",
       "  <tbody>\n",
       "    <tr>\n",
       "      <th>0</th>\n",
       "      <td>6317637</td>\n",
       "      <td>Le Petit Souffle</td>\n",
       "      <td>162</td>\n",
       "      <td>Makati City</td>\n",
       "      <td>Third Floor, Century City Mall, Kalayaan Avenu...</td>\n",
       "      <td>Century City Mall, Poblacion, Makati City</td>\n",
       "      <td>Century City Mall, Poblacion, Makati City, Mak...</td>\n",
       "      <td>121.027535</td>\n",
       "      <td>14.565443</td>\n",
       "      <td>French, Japanese, Desserts</td>\n",
       "      <td>...</td>\n",
       "      <td>Botswana Pula(P)</td>\n",
       "      <td>Yes</td>\n",
       "      <td>No</td>\n",
       "      <td>No</td>\n",
       "      <td>No</td>\n",
       "      <td>3</td>\n",
       "      <td>4.8</td>\n",
       "      <td>Dark Green</td>\n",
       "      <td>Excellent</td>\n",
       "      <td>314</td>\n",
       "    </tr>\n",
       "    <tr>\n",
       "      <th>1</th>\n",
       "      <td>6304287</td>\n",
       "      <td>Izakaya Kikufuji</td>\n",
       "      <td>162</td>\n",
       "      <td>Makati City</td>\n",
       "      <td>Little Tokyo, 2277 Chino Roces Avenue, Legaspi...</td>\n",
       "      <td>Little Tokyo, Legaspi Village, Makati City</td>\n",
       "      <td>Little Tokyo, Legaspi Village, Makati City, Ma...</td>\n",
       "      <td>121.014101</td>\n",
       "      <td>14.553708</td>\n",
       "      <td>Japanese</td>\n",
       "      <td>...</td>\n",
       "      <td>Botswana Pula(P)</td>\n",
       "      <td>Yes</td>\n",
       "      <td>No</td>\n",
       "      <td>No</td>\n",
       "      <td>No</td>\n",
       "      <td>3</td>\n",
       "      <td>4.5</td>\n",
       "      <td>Dark Green</td>\n",
       "      <td>Excellent</td>\n",
       "      <td>591</td>\n",
       "    </tr>\n",
       "    <tr>\n",
       "      <th>2</th>\n",
       "      <td>6300002</td>\n",
       "      <td>Heat - Edsa Shangri-La</td>\n",
       "      <td>162</td>\n",
       "      <td>Mandaluyong City</td>\n",
       "      <td>Edsa Shangri-La, 1 Garden Way, Ortigas, Mandal...</td>\n",
       "      <td>Edsa Shangri-La, Ortigas, Mandaluyong City</td>\n",
       "      <td>Edsa Shangri-La, Ortigas, Mandaluyong City, Ma...</td>\n",
       "      <td>121.056831</td>\n",
       "      <td>14.581404</td>\n",
       "      <td>Seafood, Asian, Filipino, Indian</td>\n",
       "      <td>...</td>\n",
       "      <td>Botswana Pula(P)</td>\n",
       "      <td>Yes</td>\n",
       "      <td>No</td>\n",
       "      <td>No</td>\n",
       "      <td>No</td>\n",
       "      <td>4</td>\n",
       "      <td>4.4</td>\n",
       "      <td>Green</td>\n",
       "      <td>Very Good</td>\n",
       "      <td>270</td>\n",
       "    </tr>\n",
       "    <tr>\n",
       "      <th>3</th>\n",
       "      <td>6318506</td>\n",
       "      <td>Ooma</td>\n",
       "      <td>162</td>\n",
       "      <td>Mandaluyong City</td>\n",
       "      <td>Third Floor, Mega Fashion Hall, SM Megamall, O...</td>\n",
       "      <td>SM Megamall, Ortigas, Mandaluyong City</td>\n",
       "      <td>SM Megamall, Ortigas, Mandaluyong City, Mandal...</td>\n",
       "      <td>121.056475</td>\n",
       "      <td>14.585318</td>\n",
       "      <td>Japanese, Sushi</td>\n",
       "      <td>...</td>\n",
       "      <td>Botswana Pula(P)</td>\n",
       "      <td>No</td>\n",
       "      <td>No</td>\n",
       "      <td>No</td>\n",
       "      <td>No</td>\n",
       "      <td>4</td>\n",
       "      <td>4.9</td>\n",
       "      <td>Dark Green</td>\n",
       "      <td>Excellent</td>\n",
       "      <td>365</td>\n",
       "    </tr>\n",
       "    <tr>\n",
       "      <th>4</th>\n",
       "      <td>6314302</td>\n",
       "      <td>Sambo Kojin</td>\n",
       "      <td>162</td>\n",
       "      <td>Mandaluyong City</td>\n",
       "      <td>Third Floor, Mega Atrium, SM Megamall, Ortigas...</td>\n",
       "      <td>SM Megamall, Ortigas, Mandaluyong City</td>\n",
       "      <td>SM Megamall, Ortigas, Mandaluyong City, Mandal...</td>\n",
       "      <td>121.057508</td>\n",
       "      <td>14.584450</td>\n",
       "      <td>Japanese, Korean</td>\n",
       "      <td>...</td>\n",
       "      <td>Botswana Pula(P)</td>\n",
       "      <td>Yes</td>\n",
       "      <td>No</td>\n",
       "      <td>No</td>\n",
       "      <td>No</td>\n",
       "      <td>4</td>\n",
       "      <td>4.8</td>\n",
       "      <td>Dark Green</td>\n",
       "      <td>Excellent</td>\n",
       "      <td>229</td>\n",
       "    </tr>\n",
       "    <tr>\n",
       "      <th>...</th>\n",
       "      <td>...</td>\n",
       "      <td>...</td>\n",
       "      <td>...</td>\n",
       "      <td>...</td>\n",
       "      <td>...</td>\n",
       "      <td>...</td>\n",
       "      <td>...</td>\n",
       "      <td>...</td>\n",
       "      <td>...</td>\n",
       "      <td>...</td>\n",
       "      <td>...</td>\n",
       "      <td>...</td>\n",
       "      <td>...</td>\n",
       "      <td>...</td>\n",
       "      <td>...</td>\n",
       "      <td>...</td>\n",
       "      <td>...</td>\n",
       "      <td>...</td>\n",
       "      <td>...</td>\n",
       "      <td>...</td>\n",
       "      <td>...</td>\n",
       "    </tr>\n",
       "    <tr>\n",
       "      <th>9546</th>\n",
       "      <td>5915730</td>\n",
       "      <td>Naml۱ Gurme</td>\n",
       "      <td>208</td>\n",
       "      <td>��stanbul</td>\n",
       "      <td>Kemanke�� Karamustafa Pa��a Mahallesi, R۱ht۱m ...</td>\n",
       "      <td>Karak�_y</td>\n",
       "      <td>Karak�_y, ��stanbul</td>\n",
       "      <td>28.977392</td>\n",
       "      <td>41.022793</td>\n",
       "      <td>Turkish</td>\n",
       "      <td>...</td>\n",
       "      <td>Turkish Lira(TL)</td>\n",
       "      <td>No</td>\n",
       "      <td>No</td>\n",
       "      <td>No</td>\n",
       "      <td>No</td>\n",
       "      <td>3</td>\n",
       "      <td>4.1</td>\n",
       "      <td>Green</td>\n",
       "      <td>Very Good</td>\n",
       "      <td>788</td>\n",
       "    </tr>\n",
       "    <tr>\n",
       "      <th>9547</th>\n",
       "      <td>5908749</td>\n",
       "      <td>Ceviz A��ac۱</td>\n",
       "      <td>208</td>\n",
       "      <td>��stanbul</td>\n",
       "      <td>Ko��uyolu Mahallesi, Muhittin ��st�_nda�� Cadd...</td>\n",
       "      <td>Ko��uyolu</td>\n",
       "      <td>Ko��uyolu, ��stanbul</td>\n",
       "      <td>29.041297</td>\n",
       "      <td>41.009847</td>\n",
       "      <td>World Cuisine, Patisserie, Cafe</td>\n",
       "      <td>...</td>\n",
       "      <td>Turkish Lira(TL)</td>\n",
       "      <td>No</td>\n",
       "      <td>No</td>\n",
       "      <td>No</td>\n",
       "      <td>No</td>\n",
       "      <td>3</td>\n",
       "      <td>4.2</td>\n",
       "      <td>Green</td>\n",
       "      <td>Very Good</td>\n",
       "      <td>1034</td>\n",
       "    </tr>\n",
       "    <tr>\n",
       "      <th>9548</th>\n",
       "      <td>5915807</td>\n",
       "      <td>Huqqa</td>\n",
       "      <td>208</td>\n",
       "      <td>��stanbul</td>\n",
       "      <td>Kuru�_e��me Mahallesi, Muallim Naci Caddesi, N...</td>\n",
       "      <td>Kuru�_e��me</td>\n",
       "      <td>Kuru�_e��me, ��stanbul</td>\n",
       "      <td>29.034640</td>\n",
       "      <td>41.055817</td>\n",
       "      <td>Italian, World Cuisine</td>\n",
       "      <td>...</td>\n",
       "      <td>Turkish Lira(TL)</td>\n",
       "      <td>No</td>\n",
       "      <td>No</td>\n",
       "      <td>No</td>\n",
       "      <td>No</td>\n",
       "      <td>4</td>\n",
       "      <td>3.7</td>\n",
       "      <td>Yellow</td>\n",
       "      <td>Good</td>\n",
       "      <td>661</td>\n",
       "    </tr>\n",
       "    <tr>\n",
       "      <th>9549</th>\n",
       "      <td>5916112</td>\n",
       "      <td>A���k Kahve</td>\n",
       "      <td>208</td>\n",
       "      <td>��stanbul</td>\n",
       "      <td>Kuru�_e��me Mahallesi, Muallim Naci Caddesi, N...</td>\n",
       "      <td>Kuru�_e��me</td>\n",
       "      <td>Kuru�_e��me, ��stanbul</td>\n",
       "      <td>29.036019</td>\n",
       "      <td>41.057979</td>\n",
       "      <td>Restaurant Cafe</td>\n",
       "      <td>...</td>\n",
       "      <td>Turkish Lira(TL)</td>\n",
       "      <td>No</td>\n",
       "      <td>No</td>\n",
       "      <td>No</td>\n",
       "      <td>No</td>\n",
       "      <td>4</td>\n",
       "      <td>4.0</td>\n",
       "      <td>Green</td>\n",
       "      <td>Very Good</td>\n",
       "      <td>901</td>\n",
       "    </tr>\n",
       "    <tr>\n",
       "      <th>9550</th>\n",
       "      <td>5927402</td>\n",
       "      <td>Walter's Coffee Roastery</td>\n",
       "      <td>208</td>\n",
       "      <td>��stanbul</td>\n",
       "      <td>Cafea��a Mahallesi, Bademalt۱ Sokak, No 21/B, ...</td>\n",
       "      <td>Moda</td>\n",
       "      <td>Moda, ��stanbul</td>\n",
       "      <td>29.026016</td>\n",
       "      <td>40.984776</td>\n",
       "      <td>Cafe</td>\n",
       "      <td>...</td>\n",
       "      <td>Turkish Lira(TL)</td>\n",
       "      <td>No</td>\n",
       "      <td>No</td>\n",
       "      <td>No</td>\n",
       "      <td>No</td>\n",
       "      <td>2</td>\n",
       "      <td>4.0</td>\n",
       "      <td>Green</td>\n",
       "      <td>Very Good</td>\n",
       "      <td>591</td>\n",
       "    </tr>\n",
       "  </tbody>\n",
       "</table>\n",
       "<p>9551 rows × 21 columns</p>\n",
       "</div>"
      ],
      "text/plain": [
       "      Restaurant ID           Restaurant Name  Country Code              City  \\\n",
       "0           6317637          Le Petit Souffle           162       Makati City   \n",
       "1           6304287          Izakaya Kikufuji           162       Makati City   \n",
       "2           6300002    Heat - Edsa Shangri-La           162  Mandaluyong City   \n",
       "3           6318506                      Ooma           162  Mandaluyong City   \n",
       "4           6314302               Sambo Kojin           162  Mandaluyong City   \n",
       "...             ...                       ...           ...               ...   \n",
       "9546        5915730               Naml۱ Gurme           208         ��stanbul   \n",
       "9547        5908749              Ceviz A��ac۱           208         ��stanbul   \n",
       "9548        5915807                     Huqqa           208         ��stanbul   \n",
       "9549        5916112               A���k Kahve           208         ��stanbul   \n",
       "9550        5927402  Walter's Coffee Roastery           208         ��stanbul   \n",
       "\n",
       "                                                Address  \\\n",
       "0     Third Floor, Century City Mall, Kalayaan Avenu...   \n",
       "1     Little Tokyo, 2277 Chino Roces Avenue, Legaspi...   \n",
       "2     Edsa Shangri-La, 1 Garden Way, Ortigas, Mandal...   \n",
       "3     Third Floor, Mega Fashion Hall, SM Megamall, O...   \n",
       "4     Third Floor, Mega Atrium, SM Megamall, Ortigas...   \n",
       "...                                                 ...   \n",
       "9546  Kemanke�� Karamustafa Pa��a Mahallesi, R۱ht۱m ...   \n",
       "9547  Ko��uyolu Mahallesi, Muhittin ��st�_nda�� Cadd...   \n",
       "9548  Kuru�_e��me Mahallesi, Muallim Naci Caddesi, N...   \n",
       "9549  Kuru�_e��me Mahallesi, Muallim Naci Caddesi, N...   \n",
       "9550  Cafea��a Mahallesi, Bademalt۱ Sokak, No 21/B, ...   \n",
       "\n",
       "                                        Locality  \\\n",
       "0      Century City Mall, Poblacion, Makati City   \n",
       "1     Little Tokyo, Legaspi Village, Makati City   \n",
       "2     Edsa Shangri-La, Ortigas, Mandaluyong City   \n",
       "3         SM Megamall, Ortigas, Mandaluyong City   \n",
       "4         SM Megamall, Ortigas, Mandaluyong City   \n",
       "...                                          ...   \n",
       "9546                                    Karak�_y   \n",
       "9547                                   Ko��uyolu   \n",
       "9548                                 Kuru�_e��me   \n",
       "9549                                 Kuru�_e��me   \n",
       "9550                                        Moda   \n",
       "\n",
       "                                       Locality Verbose   Longitude  \\\n",
       "0     Century City Mall, Poblacion, Makati City, Mak...  121.027535   \n",
       "1     Little Tokyo, Legaspi Village, Makati City, Ma...  121.014101   \n",
       "2     Edsa Shangri-La, Ortigas, Mandaluyong City, Ma...  121.056831   \n",
       "3     SM Megamall, Ortigas, Mandaluyong City, Mandal...  121.056475   \n",
       "4     SM Megamall, Ortigas, Mandaluyong City, Mandal...  121.057508   \n",
       "...                                                 ...         ...   \n",
       "9546                                Karak�_y, ��stanbul   28.977392   \n",
       "9547                               Ko��uyolu, ��stanbul   29.041297   \n",
       "9548                             Kuru�_e��me, ��stanbul   29.034640   \n",
       "9549                             Kuru�_e��me, ��stanbul   29.036019   \n",
       "9550                                    Moda, ��stanbul   29.026016   \n",
       "\n",
       "       Latitude                          Cuisines  ...          Currency  \\\n",
       "0     14.565443        French, Japanese, Desserts  ...  Botswana Pula(P)   \n",
       "1     14.553708                          Japanese  ...  Botswana Pula(P)   \n",
       "2     14.581404  Seafood, Asian, Filipino, Indian  ...  Botswana Pula(P)   \n",
       "3     14.585318                   Japanese, Sushi  ...  Botswana Pula(P)   \n",
       "4     14.584450                  Japanese, Korean  ...  Botswana Pula(P)   \n",
       "...         ...                               ...  ...               ...   \n",
       "9546  41.022793                           Turkish  ...  Turkish Lira(TL)   \n",
       "9547  41.009847   World Cuisine, Patisserie, Cafe  ...  Turkish Lira(TL)   \n",
       "9548  41.055817            Italian, World Cuisine  ...  Turkish Lira(TL)   \n",
       "9549  41.057979                   Restaurant Cafe  ...  Turkish Lira(TL)   \n",
       "9550  40.984776                              Cafe  ...  Turkish Lira(TL)   \n",
       "\n",
       "     Has Table booking Has Online delivery Is delivering now  \\\n",
       "0                  Yes                  No                No   \n",
       "1                  Yes                  No                No   \n",
       "2                  Yes                  No                No   \n",
       "3                   No                  No                No   \n",
       "4                  Yes                  No                No   \n",
       "...                ...                 ...               ...   \n",
       "9546                No                  No                No   \n",
       "9547                No                  No                No   \n",
       "9548                No                  No                No   \n",
       "9549                No                  No                No   \n",
       "9550                No                  No                No   \n",
       "\n",
       "     Switch to order menu Price range  Aggregate rating  Rating color  \\\n",
       "0                      No           3               4.8    Dark Green   \n",
       "1                      No           3               4.5    Dark Green   \n",
       "2                      No           4               4.4         Green   \n",
       "3                      No           4               4.9    Dark Green   \n",
       "4                      No           4               4.8    Dark Green   \n",
       "...                   ...         ...               ...           ...   \n",
       "9546                   No           3               4.1         Green   \n",
       "9547                   No           3               4.2         Green   \n",
       "9548                   No           4               3.7        Yellow   \n",
       "9549                   No           4               4.0         Green   \n",
       "9550                   No           2               4.0         Green   \n",
       "\n",
       "     Rating text Votes  \n",
       "0      Excellent   314  \n",
       "1      Excellent   591  \n",
       "2      Very Good   270  \n",
       "3      Excellent   365  \n",
       "4      Excellent   229  \n",
       "...          ...   ...  \n",
       "9546   Very Good   788  \n",
       "9547   Very Good  1034  \n",
       "9548        Good   661  \n",
       "9549   Very Good   901  \n",
       "9550   Very Good   591  \n",
       "\n",
       "[9551 rows x 21 columns]"
      ]
     },
     "execution_count": 2,
     "metadata": {},
     "output_type": "execute_result"
    }
   ],
   "source": [
    "df = pd.read_csv(\"Internship dataset.csv\")\n",
    "df"
   ]
  },
  {
   "cell_type": "markdown",
   "id": "3a8b1868",
   "metadata": {},
   "source": [
    "### Task 1: Restaurant Ratings"
   ]
  },
  {
   "cell_type": "markdown",
   "id": "b7cb4b5b",
   "metadata": {},
   "source": [
    "### Analyze the distribution of aggregate ratings and determine the most common rating range."
   ]
  },
  {
   "cell_type": "code",
   "execution_count": 3,
   "id": "c0377a0d",
   "metadata": {},
   "outputs": [
    {
     "name": "stdout",
     "output_type": "stream",
     "text": [
      "[4.8 4.5 4.4 4.9 4.  4.2 4.3 3.6 4.7 3.  3.8 3.7 3.2 3.1 0.  4.1 3.3 4.6\n",
      " 3.9 3.4 3.5 2.2 2.9 2.4 2.6 2.8 2.1 2.7 2.5 1.8 2.  2.3 1.9]\n"
     ]
    }
   ],
   "source": [
    "# Check the unique values of Aggregate rating to understand the range\n",
    "print(df['Aggregate rating'].unique())"
   ]
  },
  {
   "cell_type": "code",
   "execution_count": 4,
   "id": "2740ffcc",
   "metadata": {},
   "outputs": [
    {
     "data": {
      "image/png": "[encoded data removed]",
      "text/plain": [
       "<Figure size 1000x600 with 1 Axes>"
      ]
     },
     "metadata": {},
     "output_type": "display_data"
    }
   ],
   "source": [
    "# Plot the histogram of Aggregate rating\n",
    "plt.figure(figsize=(10,6))\n",
    "plt.hist(df['Aggregate rating'], bins=10, color='skyblue', edgecolor='black')\n",
    "plt.xlabel('Aggregate rating')\n",
    "plt.ylabel('Frequency')\n",
    "plt.title('Distribution of Aggregate Ratings')\n",
    "plt.grid(True)\n",
    "plt.show()"
   ]
  },
  {
   "cell_type": "code",
   "execution_count": 5,
   "id": "137bd12f",
   "metadata": {},
   "outputs": [
    {
     "data": {
      "image/png": "[encoded data removed]",
      "text/plain": [
       "<Figure size 1000x600 with 1 Axes>"
      ]
     },
     "metadata": {},
     "output_type": "display_data"
    }
   ],
   "source": [
    "# Plotting the distribution of aggregate ratings\n",
    "plt.figure(figsize=(10, 6))\n",
    "sns.histplot(df['Aggregate rating'], bins=10, kde=True)\n",
    "plt.title('Distribution of Aggregate Ratings')\n",
    "plt.xlabel('Aggregate Rating')\n",
    "plt.ylabel('Frequency')\n",
    "plt.show()\n"
   ]
  },
  {
   "cell_type": "markdown",
   "id": "8ed2099f",
   "metadata": {},
   "source": [
    "### Calculate the average number of votes received by restaurants.\n"
   ]
  },
  {
   "cell_type": "code",
   "execution_count": 6,
   "id": "5d6a1918",
   "metadata": {
    "scrolled": true
   },
   "outputs": [
    {
     "name": "stdout",
     "output_type": "stream",
     "text": [
      "The most common rating is: 0.0\n"
     ]
    }
   ],
   "source": [
    "# Determine the most common rating range\n",
    "rating_counts = df['Aggregate rating'].value_counts().sort_index()\n",
    "most_common_range = rating_counts.idxmax()\n",
    "\n",
    "print(f\"The most common rating is: {most_common_range}\")"
   ]
  },
  {
   "cell_type": "code",
   "execution_count": 7,
   "id": "32ace87e",
   "metadata": {},
   "outputs": [
    {
     "name": "stdout",
     "output_type": "stream",
     "text": [
      "Average number of votes received by restaurants: 156.909747670401\n"
     ]
    }
   ],
   "source": [
    "# Calculate the average number of votes received by restaurants\n",
    "average_votes = df['Votes'].mean()\n",
    "print(\"Average number of votes received by restaurants:\", average_votes)"
   ]
  },
  {
   "cell_type": "markdown",
   "id": "65a14a0b",
   "metadata": {},
   "source": [
    "### Task 2: Cuisine Combination"
   ]
  },
  {
   "cell_type": "markdown",
   "id": "0df024f9",
   "metadata": {},
   "source": [
    "### Identify the most common combinations of cuisines in the dataset"
   ]
  },
  {
   "cell_type": "code",
   "execution_count": 8,
   "id": "01211138",
   "metadata": {},
   "outputs": [
    {
     "data": {
      "text/plain": [
       "9"
      ]
     },
     "execution_count": 8,
     "metadata": {},
     "output_type": "execute_result"
    }
   ],
   "source": [
    "df['Cuisines'].isnull().sum()"
   ]
  },
  {
   "cell_type": "code",
   "execution_count": 9,
   "id": "aaae29ad",
   "metadata": {},
   "outputs": [],
   "source": [
    "# Drop rows with missing values in the 'Cuisines' column\n",
    "data_cleaned = df.dropna(subset=['Cuisines'],inplace=True)"
   ]
  },
  {
   "cell_type": "code",
   "execution_count": 10,
   "id": "d67f513a",
   "metadata": {},
   "outputs": [],
   "source": [
    "# Split the cuisines into individual cuisines and flatten the list of lists\n",
    "cuisine_list = [cuisine.strip() for sublist in df['Cuisines'].str.split(',') for cuisine in sublist]\n",
    "\n",
    "# Count the occurrences of each cuisine\n",
    "cuisine_counter = Counter(cuisine_list)\n"
   ]
  },
  {
   "cell_type": "code",
   "execution_count": 11,
   "id": "38173882",
   "metadata": {},
   "outputs": [
    {
     "name": "stdout",
     "output_type": "stream",
     "text": [
      "Top 10 most common combinations of cuisines:\n",
      "North Indian : 3960\n",
      "Chinese : 2735\n",
      "Fast Food : 1986\n",
      "Mughlai : 995\n",
      "Italian : 764\n",
      "Bakery : 745\n",
      "Continental : 736\n",
      "Cafe : 703\n",
      "Desserts : 653\n",
      "South Indian : 636\n"
     ]
    }
   ],
   "source": [
    "# Get the most common combinations of cuisines\n",
    "most_common_cuisines = cuisine_counter.most_common(10)\n",
    "\n",
    "# Print the result\n",
    "print(\"Top 10 most common combinations of cuisines:\")\n",
    "for cuisine, count in most_common_cuisines:\n",
    "    print(cuisine, \":\", count)"
   ]
  },
  {
   "cell_type": "markdown",
   "id": "508c1f39",
   "metadata": {},
   "source": [
    "### Determine if certain cuisine combinations tend to have higher ratings.\n"
   ]
  },
  {
   "cell_type": "code",
   "execution_count": 12,
   "id": "60b009f8",
   "metadata": {},
   "outputs": [],
   "source": [
    "cuisine_ratings_list = []\n",
    "\n",
    "# Iterate over each row in the dataset\n",
    "for index, row in df.iterrows():\n",
    "    cuisines = [cuisine.strip() for cuisine in row['Cuisines'].split(',')]\n",
    "    average_rating = row['Aggregate rating']\n",
    "    \n",
    "    # Add the average rating to the corresponding cuisine combination in the list\n",
    "    for cuisine in cuisines:\n",
    "        # Check if the cuisine combination already exists in the list\n",
    "        existing_combinations = [item['Cuisine Combination'] for item in cuisine_ratings_list]\n",
    "        if cuisine in existing_combinations:\n",
    "            # If the cuisine combination already exists in the list, update the average rating\n",
    "            for item in cuisine_ratings_list:\n",
    "                if item['Cuisine Combination'] == cuisine:\n",
    "                    item['Average Rating'] += average_rating\n",
    "        else:\n",
    "            # If the cuisine combination doesn't exist, add it to the list\n",
    "            cuisine_ratings_list.append({'Cuisine Combination': cuisine, 'Average Rating': average_rating})"
   ]
  },
  {
   "cell_type": "code",
   "execution_count": 13,
   "id": "98918af6",
   "metadata": {},
   "outputs": [
    {
     "name": "stdout",
     "output_type": "stream",
     "text": [
      "Top 10 cuisine combinations with the highest average ratings:\n",
      "    Cuisine Combination  Average Rating\n",
      "126               Sunda        4.900000\n",
      "144              B�_rek        4.700000\n",
      "130           Taiwanese        4.650000\n",
      "127               Ramen        4.500000\n",
      "75              Dim Sum        4.466667\n",
      "63             Hawaiian        4.412500\n",
      "58           Bubble Tea        4.400000\n",
      "142              D�_ner        4.400000\n",
      "134               Curry        4.400000\n",
      "138               Kebab        4.380000\n"
     ]
    }
   ],
   "source": [
    "# Calculate the average rating for each cuisine combination\n",
    "for item in cuisine_ratings_list:\n",
    "    item['Average Rating'] /= len(df[df['Cuisines'].str.contains(item['Cuisine Combination'])])\n",
    "\n",
    "# Convert the list to a DataFrame\n",
    "cuisine_ratings = pd.DataFrame(cuisine_ratings_list)\n",
    "\n",
    "# Sort the DataFrame by average rating in descending order\n",
    "cuisine_ratings = cuisine_ratings.sort_values(by='Average Rating', ascending=False)\n",
    "\n",
    "# Print the top 10 cuisine combinations with the highest average ratings\n",
    "print(\"Top 10 cuisine combinations with the highest average ratings:\")\n",
    "print(cuisine_ratings.head(10))"
   ]
  },
  {
   "cell_type": "markdown",
   "id": "a27cfeb6",
   "metadata": {},
   "source": [
    "### Task 3: Geographic Analysis"
   ]
  },
  {
   "cell_type": "markdown",
   "id": "cd881c7d",
   "metadata": {},
   "source": [
    "### Plot the locations of restaurants on a map using longitude and latitude coordinates."
   ]
  },
  {
   "cell_type": "code",
   "execution_count": 14,
   "id": "5e55e48a",
   "metadata": {},
   "outputs": [
    {
     "name": "stdout",
     "output_type": "stream",
     "text": [
      "Requirement already satisfied: plotly in c:\\users\\sharo\\anaconda3\\lib\\site-packages (5.9.0)\n",
      "Requirement already satisfied: tenacity>=6.2.0 in c:\\users\\sharo\\anaconda3\\lib\\site-packages (from plotly) (8.2.2)\n"
     ]
    }
   ],
   "source": [
    "!pip install plotly"
   ]
  },
  {
   "cell_type": "code",
   "execution_count": 15,
   "id": "c1faa824",
   "metadata": {},
   "outputs": [
    {
     "ename": "NameError",
     "evalue": "name 'folium' is not defined",
     "output_type": "error",
     "traceback": [
      "\u001b[1;31m---------------------------------------------------------------------------\u001b[0m",
      "\u001b[1;31mNameError\u001b[0m                                 Traceback (most recent call last)",
      "Cell \u001b[1;32mIn[15], line 3\u001b[0m\n\u001b[0;32m      1\u001b[0m \u001b[38;5;66;03m# Create a map centered at the mean latitude and longitude of the dataset\u001b[39;00m\n\u001b[0;32m      2\u001b[0m map_center \u001b[38;5;241m=\u001b[39m [df[\u001b[38;5;124m'\u001b[39m\u001b[38;5;124mLatitude\u001b[39m\u001b[38;5;124m'\u001b[39m]\u001b[38;5;241m.\u001b[39mmean(), df[\u001b[38;5;124m'\u001b[39m\u001b[38;5;124mLongitude\u001b[39m\u001b[38;5;124m'\u001b[39m]\u001b[38;5;241m.\u001b[39mmean()]\n\u001b[1;32m----> 3\u001b[0m restaurant_map \u001b[38;5;241m=\u001b[39m folium\u001b[38;5;241m.\u001b[39mMap(location\u001b[38;5;241m=\u001b[39mmap_center, zoom_start\u001b[38;5;241m=\u001b[39m\u001b[38;5;241m10\u001b[39m)\n\u001b[0;32m      5\u001b[0m \u001b[38;5;66;03m# Add markers for each restaurant\u001b[39;00m\n\u001b[0;32m      6\u001b[0m \u001b[38;5;28;01mfor\u001b[39;00m index, row \u001b[38;5;129;01min\u001b[39;00m df\u001b[38;5;241m.\u001b[39miterrows():\n",
      "\u001b[1;31mNameError\u001b[0m: name 'folium' is not defined"
     ]
    }
   ],
   "source": [
    "# Create a map centered at the mean latitude and longitude of the dataset\n",
    "map_center = [df['Latitude'].mean(), df['Longitude'].mean()]\n",
    "restaurant_map = folium.Map(location=map_center, zoom_start=10)\n",
    "\n",
    "# Add markers for each restaurant\n",
    "for index, row in df.iterrows():\n",
    "    folium.Marker([row['Latitude'], row['Longitude']], popup=row['Restaurant Name']).add_to(restaurant_map)"
   ]
  },
  {
   "cell_type": "markdown",
   "id": "65b458d6",
   "metadata": {},
   "source": [
    "## Identify any patterns or clusters of restaurants in specific areas."
   ]
  },
  {
   "cell_type": "code",
   "execution_count": 16,
   "id": "d851867f",
   "metadata": {
    "scrolled": true
   },
   "outputs": [
    {
     "name": "stdout",
     "output_type": "stream",
     "text": [
      "Requirement already satisfied: pandas in c:\\users\\sharo\\anaconda3\\lib\\site-packages (2.0.3)Note: you may need to restart the kernel to use updated packages.\n",
      "\n",
      "Requirement already satisfied: scikit-learn in c:\\users\\sharo\\anaconda3\\lib\\site-packages (1.4.2)\n",
      "Requirement already satisfied: folium in c:\\users\\sharo\\anaconda3\\lib\\site-packages (0.17.0)\n",
      "Requirement already satisfied: python-dateutil>=2.8.2 in c:\\users\\sharo\\anaconda3\\lib\\site-packages (from pandas) (2.8.2)\n",
      "Requirement already satisfied: pytz>=2020.1 in c:\\users\\sharo\\anaconda3\\lib\\site-packages (from pandas) (2023.3.post1)\n",
      "Requirement already satisfied: tzdata>=2022.1 in c:\\users\\sharo\\anaconda3\\lib\\site-packages (from pandas) (2023.3)\n",
      "Requirement already satisfied: numpy>=1.21.0 in c:\\users\\sharo\\anaconda3\\lib\\site-packages (from pandas) (1.24.3)\n",
      "Requirement already satisfied: scipy>=1.6.0 in c:\\users\\sharo\\anaconda3\\lib\\site-packages (from scikit-learn) (1.11.1)\n",
      "Requirement already satisfied: joblib>=1.2.0 in c:\\users\\sharo\\anaconda3\\lib\\site-packages (from scikit-learn) (1.2.0)\n",
      "Requirement already satisfied: threadpoolctl>=2.0.0 in c:\\users\\sharo\\anaconda3\\lib\\site-packages (from scikit-learn) (2.2.0)\n",
      "Requirement already satisfied: branca>=0.6.0 in c:\\users\\sharo\\anaconda3\\lib\\site-packages (from folium) (0.7.2)\n",
      "Requirement already satisfied: jinja2>=2.9 in c:\\users\\sharo\\anaconda3\\lib\\site-packages (from folium) (3.1.2)\n",
      "Requirement already satisfied: requests in c:\\users\\sharo\\anaconda3\\lib\\site-packages (from folium) (2.31.0)\n",
      "Requirement already satisfied: xyzservices in c:\\users\\sharo\\anaconda3\\lib\\site-packages (from folium) (2022.9.0)\n",
      "Requirement already satisfied: MarkupSafe>=2.0 in c:\\users\\sharo\\anaconda3\\lib\\site-packages (from jinja2>=2.9->folium) (2.1.1)\n",
      "Requirement already satisfied: six>=1.5 in c:\\users\\sharo\\anaconda3\\lib\\site-packages (from python-dateutil>=2.8.2->pandas) (1.16.0)\n",
      "Requirement already satisfied: charset-normalizer<4,>=2 in c:\\users\\sharo\\anaconda3\\lib\\site-packages (from requests->folium) (2.0.4)\n",
      "Requirement already satisfied: idna<4,>=2.5 in c:\\users\\sharo\\anaconda3\\lib\\site-packages (from requests->folium) (3.4)\n",
      "Requirement already satisfied: urllib3<3,>=1.21.1 in c:\\users\\sharo\\anaconda3\\lib\\site-packages (from requests->folium) (1.26.16)\n",
      "Requirement already satisfied: certifi>=2017.4.17 in c:\\users\\sharo\\anaconda3\\lib\\site-packages (from requests->folium) (2023.7.22)\n"
     ]
    }
   ],
   "source": [
    "pip install pandas scikit-learn folium"
   ]
  },
  {
   "cell_type": "code",
   "execution_count": 17,
   "id": "b8f1f1bc",
   "metadata": {},
   "outputs": [
    {
     "name": "stdout",
     "output_type": "stream",
     "text": [
      "Cluster counts:\n",
      "Cluster\n",
      "-1     938\n",
      " 0       5\n",
      " 1      15\n",
      " 2      13\n",
      " 3       7\n",
      "      ... \n",
      " 90      5\n",
      " 91      6\n",
      " 92     11\n",
      " 93      7\n",
      " 94      5\n",
      "Name: count, Length: 96, dtype: int64\n"
     ]
    }
   ],
   "source": [
    "import numpy as np\n",
    "from sklearn.cluster import DBSCAN\n",
    "import folium\n",
    "\n",
    "# Drop rows where 'Longitude' or 'Latitude' is NaN\n",
    "df = df.dropna(subset=['Longitude', 'Latitude'])\n",
    "\n",
    "# Extract the relevant columns\n",
    "coordinates = df[['Latitude', 'Longitude']].values\n",
    "\n",
    "# Perform DBSCAN clustering\n",
    "dbscan = DBSCAN(eps=0.01, min_samples=5)  # Adjust eps and min_samples as needed\n",
    "clusters = dbscan.fit_predict(coordinates)\n",
    "\n",
    "# Add the cluster labels to the DataFrame\n",
    "df['Cluster'] = clusters\n",
    "\n",
    "# Initialize a map centered around the mean latitude and longitude\n",
    "mean_lat = df['Latitude'].mean()\n",
    "mean_lon = df['Longitude'].mean()\n",
    "restaurant_map = folium.Map(location=[mean_lat, mean_lon], zoom_start=12)\n",
    "\n",
    "# Define colors for different clusters\n",
    "colors = ['red', 'blue', 'green', 'purple', 'orange', 'darkred', 'lightred', 'beige', \n",
    "          'darkblue', 'darkgreen', 'cadetblue', 'darkpurple', 'white', 'pink', 'lightblue', \n",
    "          'lightgreen', 'gray', 'black', 'lightgray']\n",
    "\n",
    "# Add markers for each restaurant, color-coded by cluster\n",
    "for _, row in df.iterrows():\n",
    "    cluster_color = colors[row['Cluster'] % len(colors)] if row['Cluster'] != -1 else 'gray'\n",
    "    folium.Marker(\n",
    "        location=[row['Latitude'], row['Longitude']],\n",
    "        popup=row['Restaurant Name'],\n",
    "        icon=folium.Icon(color=cluster_color, icon='info-sign')\n",
    "    ).add_to(restaurant_map)\n",
    "\n",
    "# Save the map to an HTML file\n",
    "restaurant_map.save('restaurant_clusters_map.html')\n",
    "\n",
    "# Display the map (this works directly in Jupyter Notebook)\n",
    "restaurant_map\n",
    "\n",
    "# Display basic cluster statistics\n",
    "cluster_counts = df['Cluster'].value_counts().sort_index()\n",
    "print(\"Cluster counts:\")\n",
    "print(cluster_counts)\n"
   ]
  },
  {
   "cell_type": "markdown",
   "id": "ed89c3b8",
   "metadata": {},
   "source": [
    "### Task 4: Restaurant Chains"
   ]
  },
  {
   "cell_type": "markdown",
   "id": "f6c69194",
   "metadata": {},
   "source": [
    "### Identify if there are any restaurant chains present in the dataset"
   ]
  },
  {
   "cell_type": "code",
   "execution_count": 19,
   "id": "4e670a8c",
   "metadata": {},
   "outputs": [
    {
     "name": "stdout",
     "output_type": "stream",
     "text": [
      "Restaurant chains present in the dataset:\n",
      "Restaurant Name\n",
      "Cafe Coffee Day                   83\n",
      "Domino's Pizza                    79\n",
      "Subway                            63\n",
      "Green Chick Chop                  51\n",
      "McDonald's                        48\n",
      "                                  ..\n",
      "Zaika Kathi Rolls                  2\n",
      "The Night Owl                      2\n",
      "The Cheesecake Factory             2\n",
      "New Kadimi                         2\n",
      "Ceviche Tapas Bar & Restaurant     2\n",
      "Name: count, Length: 734, dtype: int64\n"
     ]
    }
   ],
   "source": [
    "# Group the dataset by restaurant name and count the occurrences\n",
    "restaurant_counts = df['Restaurant Name'].value_counts()\n",
    "\n",
    "# Filter the restaurant names where the count is greater than 1\n",
    "restaurant_chains = restaurant_counts[restaurant_counts > 1]\n",
    "\n",
    "# Print the restaurant chains present in the dataset\n",
    "print(\"Restaurant chains present in the dataset:\")\n",
    "print(restaurant_chains)"
   ]
  },
  {
   "cell_type": "code",
   "execution_count": 20,
   "id": "c02681b9",
   "metadata": {},
   "outputs": [],
   "source": [
    "# Drop rows where 'Restaurant Name' or 'Aggregate rating' or 'Votes' is NaN\n",
    "df = df.dropna(subset=['Restaurant Name', 'Aggregate rating', 'Votes'])"
   ]
  },
  {
   "cell_type": "code",
   "execution_count": 21,
   "id": "df9e1d0e",
   "metadata": {},
   "outputs": [],
   "source": [
    "# Group by restaurant name and calculate average rating and total number of votes\n",
    "restaurant_analysis = df.groupby('Restaurant Name').agg(\n",
    "    average_rating=('Aggregate rating', 'mean'),\n",
    "    total_votes=('Votes', 'sum')\n",
    ").reset_index()\n"
   ]
  },
  {
   "cell_type": "code",
   "execution_count": 22,
   "id": "4256881d",
   "metadata": {},
   "outputs": [],
   "source": [
    "# Sort by average rating in descending order\n",
    "top_rated_restaurants = restaurant_analysis.sort_values(by='average_rating', ascending=False)\n",
    "\n",
    "# Sort by total number of votes in descending order\n",
    "most_popular_restaurants = restaurant_analysis.sort_values(by='total_votes', ascending=False)"
   ]
  },
  {
   "cell_type": "code",
   "execution_count": 23,
   "id": "0e8d6adf",
   "metadata": {},
   "outputs": [
    {
     "name": "stdout",
     "output_type": "stream",
     "text": [
      "Top 10 top-rated restaurants:\n",
      "                          Restaurant Name  average_rating  total_votes\n",
      "4175                      Mirchi And Mime             4.9         3244\n",
      "7330                      Yellow Dog Eats             4.9         1252\n",
      "6970        Tresind - Nassima Royal Hotel             4.9         1352\n",
      "3140              Ingleside Village Pizza             4.9          478\n",
      "3110            Indian Accent - The Manor             4.9         1934\n",
      "4987  Pom Pom's Teahouse and Sandwicheria             4.9         1457\n",
      "5179                   Rae's Coastal Cafe             4.9          548\n",
      "945                    Braseiro da G��vea             4.9           40\n",
      "5469                Sagar Gaire Fast Food             4.9          427\n",
      "2130                        Duck & Waffle             4.9          706\n"
     ]
    }
   ],
   "source": [
    "# Display the top 10 top-rated restaurants\n",
    "print(\"Top 10 top-rated restaurants:\")\n",
    "print(top_rated_restaurants.head(10))"
   ]
  },
  {
   "cell_type": "code",
   "execution_count": 24,
   "id": "6dff999b",
   "metadata": {},
   "outputs": [
    {
     "name": "stdout",
     "output_type": "stream",
     "text": [
      "\n",
      "Top 10 most popular restaurants:\n",
      "                Restaurant Name  average_rating  total_votes\n",
      "663             Barbeque Nation        4.353846        28142\n",
      "101   AB's - Absolute Barbecues        4.825000        13400\n",
      "6935                       Toit        4.800000        10934\n",
      "785                   Big Chill        4.475000        10853\n",
      "2294                 Farzi Cafe        4.366667        10098\n",
      "6980                   Truffles        3.950000         9682\n",
      "1510                    Chili's        4.580000         8156\n",
      "2875           Hauz Khas Social        4.300000         7931\n",
      "3255               Joey's Pizza        4.250000         7807\n",
      "4894                  Peter Cat        4.300000         7574\n"
     ]
    }
   ],
   "source": [
    "# Display the top 10 most popular restaurants\n",
    "print(\"\\nTop 10 most popular restaurants:\")\n",
    "print(most_popular_restaurants.head(10))"
   ]
  },
  {
   "cell_type": "code",
   "execution_count": null,
   "id": "7b5c69ca",
   "metadata": {},
   "outputs": [],
   "source": []
  }
 ],
 "metadata": {
  "kernelspec": {
   "display_name": "Python 3 (ipykernel)",
   "language": "python",
   "name": "python3"
  },
  "language_info": {
   "codemirror_mode": {
    "name": "ipython",
    "version": 3
   },
   "file_extension": ".py",
   "mimetype": "text/x-python",
   "name": "python",
   "nbconvert_exporter": "python",
   "pygments_lexer": "ipython3",
   "version": "3.11.5"
  }
 },
 "nbformat": 4,
 "nbformat_minor": 5
}
